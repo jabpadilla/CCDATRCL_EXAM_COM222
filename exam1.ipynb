{
  "cells": [
    {
      "cell_type": "markdown",
      "metadata": {
        "id": "yaz2B0KGFehP"
      },
      "source": [
        "# Midterm Exam 💛💙"
      ]
    },
    {
      "cell_type": "markdown",
      "metadata": {
        "id": "_DmK1ONEFehQ"
      },
      "source": [
        "**Instructions** ❗️❗️\n",
        "\n",
        "❌ Do not remove or modify the notebook **sections**, **subsections**, **exam questions** or **any text** in this python notebook\n",
        "\n",
        "✔️ Put your answer in the designated cells below each question"
      ]
    },
    {
      "cell_type": "markdown",
      "metadata": {
        "id": "TMCAXKWCFehR"
      },
      "source": [
        "## Search"
      ]
    },
    {
      "cell_type": "code",
      "execution_count": null,
      "metadata": {
        "id": "Fy8nEBRRFehR"
      },
      "outputs": [],
      "source": [
        "def linearSearch(my_list, number):\n",
        "\n",
        "    index = 0\n",
        "\n",
        "    for i in my_list:\n",
        "\n",
        "        if my_list[index] == number:\n",
        "            return index\n",
        "\n",
        "        index = index + 1\n",
        "\n",
        "    return -1"
      ]
    },
    {
      "cell_type": "markdown",
      "metadata": {
        "id": "AjAevpueFehS"
      },
      "source": [
        "1. Using **linear search**, write a `findLargestIncrease()` function to find the largest increase in value between two adjacent numbers in your student number `(10 points)`\n",
        "\n",
        "    **Example:**\n",
        "\n",
        "    student_number = [2,0,2,2,6,2,5,1,9,3]\n",
        "\n",
        "    **Expected Output:**\n",
        "\n",
        "    findLargestIncrease(student_number)\n",
        "\n",
        "    Output: Between 1 and 9\n",
        "\n",
        "    **Explanation:**\n",
        "\n",
        "    From this student_number, the largest increase happened from number 1 to number 9"
      ]
    },
    {
      "cell_type": "code",
      "execution_count": null,
      "metadata": {
        "id": "JE8nEfyJFehS",
        "colab": {
          "base_uri": "https://localhost:8080/"
        },
        "outputId": "5bd92fa0-124a-4ccb-f7b6-0643c90d5133"
      },
      "outputs": [
        {
          "output_type": "stream",
          "name": "stdout",
          "text": [
            "Output: Between 0 and 7\n"
          ]
        }
      ],
      "source": [
        "def findLargestIncrease(student_number):\n",
        "    largestIncrease = 0\n",
        "    startIndex = -1\n",
        "    endIndex = -1\n",
        "\n",
        "    for i in range(len(student_number) - 1):\n",
        "        currentIncrease = student_number[i + 1] - student_number[i]\n",
        "        if currentIncrease > largestIncrease:\n",
        "            largestIncrease = currentIncrease\n",
        "            startIndex = linearSearch(student_number, student_number[i])\n",
        "            endIndex = linearSearch(student_number, student_number[i + 1])\n",
        "\n",
        "    if (startIndex, endIndex) != (-1, -1):\n",
        "        print(f\"Output: Between {student_number[startIndex]} and {student_number[endIndex]}\")\n",
        "    else:\n",
        "        print(\"Output: No increase found\")\n",
        "\n",
        "\n",
        "\n",
        "def main():\n",
        "    # Declare a list named student_number\n",
        "    # Instantiate each of the digits of the student number\n",
        "    student_number = [2,0,2,2,1,0,7,5,3,4]\n",
        "\n",
        "    # Use the findLargestIncrease() function\n",
        "    findLargestIncrease(student_number)\n",
        "\n",
        "if __name__ == \"__main__\":\n",
        "    main()"
      ]
    },
    {
      "cell_type": "markdown",
      "metadata": {
        "id": "nMyr1fNyFehS"
      },
      "source": [
        "2. Using **linear search**, write a `findLargestDecrease()` function to find the largest decrease in value between two adjacent numbers in your student number `(10 points)`\n",
        "\n",
        "    **Example:**\n",
        "\n",
        "    student_number = [2,0,2,2,6,2,5,1,9,3]\n",
        "\n",
        "    **Expected Output:**\n",
        "\n",
        "    findLargestDecrease(student_number)\n",
        "\n",
        "    Output: Between 9 and 3\n",
        "\n",
        "    **Explanation:**\n",
        "\n",
        "    From this student_number, the largest decrease happened from number 9 to number 3"
      ]
    },
    {
      "cell_type": "code",
      "execution_count": null,
      "metadata": {
        "id": "bfMfQVbVFehS",
        "colab": {
          "base_uri": "https://localhost:8080/"
        },
        "outputId": "e2d62868-14a4-467b-ca00-59ffcca0b4bb"
      },
      "outputs": [
        {
          "output_type": "stream",
          "name": "stdout",
          "text": [
            "Output: Between 2 and 0\n"
          ]
        }
      ],
      "source": [
        "def findLargestDecrease(student_number):\n",
        "    largestDecrease = 0\n",
        "    startIndex = -1\n",
        "    endIndex = -1\n",
        "\n",
        "    for i in range(len(student_number) - 1):\n",
        "        currentDecrease = student_number[i] - student_number[i + 1]\n",
        "        if currentDecrease > largestDecrease:\n",
        "            largestDecrease = currentDecrease\n",
        "            startIndex = linearSearch(student_number, student_number[i])\n",
        "            endIndex = linearSearch(student_number, student_number[i + 1])\n",
        "\n",
        "    if (startIndex, endIndex) != (-1, -1):\n",
        "        print(f\"Output: Between {student_number[startIndex]} and {student_number[endIndex]}\")\n",
        "    else:\n",
        "        print(\"Output: No decrease found\")\n",
        "\n",
        "\n",
        "\n",
        "def main():\n",
        "    # Declare a list named student_number\n",
        "    # Instantiate each of the digits of the student number\n",
        "    student_number = [2,0,2,2,1,0,7,5,3,4]\n",
        "\n",
        "    # Use the findLargestDecrease() function\n",
        "    findLargestDecrease(student_number)\n",
        "\n",
        "if __name__ == \"__main__\":\n",
        "    main()"
      ]
    },
    {
      "cell_type": "markdown",
      "metadata": {
        "id": "NtKSQn9QFehS"
      },
      "source": [
        "## Linked List"
      ]
    },
    {
      "cell_type": "code",
      "execution_count": null,
      "metadata": {
        "id": "0HP5zyJcFehS"
      },
      "outputs": [],
      "source": [
        "class Node:\n",
        "\n",
        "    def __init__(self, data):\n",
        "        self.data = data\n",
        "        self.next = None  # null"
      ]
    },
    {
      "cell_type": "code",
      "execution_count": null,
      "metadata": {
        "id": "A-8Uefe7FehS"
      },
      "outputs": [],
      "source": [
        "class LinkedList:\n",
        "\n",
        "    def __init__(self):\n",
        "        self.head = None\n",
        "\n",
        "    def traverse(self, node):\n",
        "        while node:\n",
        "            print(node.data, end=\" -> \")\n",
        "            node = node.next"
      ]
    },
    {
      "cell_type": "markdown",
      "metadata": {
        "id": "uPgIJJuSFehT"
      },
      "source": [
        "**Instructions** ❗️❗️\n",
        "\n",
        "Use the pre-defined linked list class/functions to create a linked list"
      ]
    },
    {
      "cell_type": "markdown",
      "metadata": {
        "id": "WIwpW7Q2FehT"
      },
      "source": [
        "1. Create a Singly linked list named **num_list** and print all of its elements. `(5 points)`\n",
        "\n",
        "- **num_list** should contain all digits of your student number.\n",
        "\n",
        "    **Expected Output:**\n",
        "\n",
        "    print(num_list)\n",
        "\n",
        "    [2, 0, 2, 2, 1, 2, 3, 4, 5, 6]"
      ]
    },
    {
      "cell_type": "code",
      "execution_count": null,
      "metadata": {
        "id": "Lihv0JPiFehT",
        "colab": {
          "base_uri": "https://localhost:8080/"
        },
        "outputId": "9d113c55-9383-4fba-e2b8-f2137df63e65"
      },
      "outputs": [
        {
          "output_type": "stream",
          "name": "stdout",
          "text": [
            "[2, 0, 2, 2, 1, 0, 7, 5, 3, 4]\n"
          ]
        }
      ],
      "source": [
        "def main():\n",
        "  # Create a new instance of the LinkedList class\n",
        "  linkedList = LinkedList()\n",
        "\n",
        "  # Create nodes and assign data to each node\n",
        "  linkedList.head = Node(2)\n",
        "  node_b = Node(0)\n",
        "  node_c = Node(2)\n",
        "  node_d = Node(2)\n",
        "  node_e = Node(1)\n",
        "  node_f = Node(0)\n",
        "  node_g = Node(7)\n",
        "  node_h = Node(5)\n",
        "  node_i = Node(3)\n",
        "  node_j = Node(4)\n",
        "\n",
        "  # Connect each node\n",
        "  linkedList.head.next = node_b\n",
        "  node_b.next = node_c\n",
        "  node_c.next = node_d\n",
        "  node_d.next = node_e\n",
        "  node_e.next = node_f\n",
        "  node_f.next = node_g\n",
        "  node_g.next = node_h\n",
        "  node_h.next = node_i\n",
        "  node_i.next = node_j\n",
        "\n",
        "  # Print the num_list\n",
        "  num_list = []\n",
        "  while linkedList.head:\n",
        "      num_list.append(linkedList.head.data)\n",
        "      linkedList.head = linkedList.head.next\n",
        "  print(num_list)\n",
        "\n",
        "if __name__ == \"__main__\":\n",
        "    main()"
      ]
    },
    {
      "cell_type": "markdown",
      "metadata": {
        "id": "dqA2UYrYFehT"
      },
      "source": [
        "2. Write a `hasPrime()` function to test whether a prime number is in the last six digits of **num_list**. `(5 points)`\n",
        "\n",
        "- If a prime number is in the last six digits of **num_list**, the method should return **true**\n",
        "\n",
        "- If a prime number is not in the last six digits of **num_list**, the method should return **false**\n",
        "\n",
        "    **Expected Output:**\n",
        "\n",
        "    hasPrime(num_list)\n",
        "\n",
        "    True"
      ]
    },
    {
      "cell_type": "code",
      "execution_count": null,
      "metadata": {
        "id": "GYwsQNz5FehT",
        "colab": {
          "base_uri": "https://localhost:8080/"
        },
        "outputId": "7d26698a-607c-478e-a4fe-1a519c4ec4ff"
      },
      "outputs": [
        {
          "output_type": "stream",
          "name": "stdout",
          "text": [
            "True\n"
          ]
        }
      ],
      "source": [
        "import math\n",
        "\n",
        "def is_prime(num):\n",
        "    if num < 2 or num % 2 == 0:\n",
        "        return False\n",
        "    if num == 2:\n",
        "        return True\n",
        "\n",
        "    divisor = math.isqrt(num) + 1\n",
        "    for i in range(3, divisor, 2):\n",
        "        if num % i == 0:\n",
        "            return False\n",
        "    return True\n",
        "\n",
        "def hasPrime(num_list):\n",
        "    lastSixDigits = num_list[-6:]\n",
        "\n",
        "    for num in lastSixDigits:\n",
        "        if is_prime(num):\n",
        "            return True\n",
        "\n",
        "    return False\n",
        "\n",
        "\n",
        "\n",
        "def main():\n",
        "  # Declare a list named num_list\n",
        "  # Instantiate each of the digits of the student number\n",
        "  num_list = [2,0,2,2,1,0,7,5,3,4]\n",
        "\n",
        "  # Create a new instance of the LinkedList class\n",
        "  linked_list = LinkedList()\n",
        "\n",
        "  for num in num_list:\n",
        "      newNode = Node(num)\n",
        "      if not linked_list.head:\n",
        "          linked_list.head = newNode\n",
        "      else:\n",
        "          current = linked_list.head\n",
        "          while current.next:\n",
        "              current = current.next\n",
        "          current.next = newNode\n",
        "\n",
        "# Use the hasPrime() function and print the output\n",
        "  print(hasPrime(num_list))\n",
        "\n",
        "if __name__ == \"__main__\":\n",
        "    main()"
      ]
    },
    {
      "cell_type": "markdown",
      "metadata": {
        "id": "5Qb0BOiwFehT"
      },
      "source": [
        "3. Write a `removeZeroes()` function to remove all occurrences of zeroes in **num_list**. `(5 points)`\n",
        "\n",
        "- If a zero is in **num_list**, return **num_list**\n",
        "\n",
        "- If there are no zeroes in **num_list**, return **\"no zeros found\"**\n",
        "\n",
        "    **Expected Output:**\n",
        "\n",
        "    removeZeroes(num_list)\n",
        "\n",
        "    [2, 2, 1, 2, 3, 4, 5, 6]"
      ]
    },
    {
      "cell_type": "code",
      "execution_count": null,
      "metadata": {
        "id": "k1vAHUYuFehT",
        "colab": {
          "base_uri": "https://localhost:8080/"
        },
        "outputId": "8dcde709-cffd-43d8-bb6c-4aec3fd41dec"
      },
      "outputs": [
        {
          "output_type": "stream",
          "name": "stdout",
          "text": [
            "[2, 2, 2, 1, 7, 5, 3, 4]\n"
          ]
        }
      ],
      "source": [
        "def removeZeroes(num_list):\n",
        "  if not num_list.head:\n",
        "      return \"no zeros found\"\n",
        "\n",
        "  while num_list.head and num_list.head.data == 0:\n",
        "      num_list.head = num_list.head.next\n",
        "\n",
        "  current = num_list.head\n",
        "  prev = None\n",
        "\n",
        "  while current:\n",
        "      if current.data == 0:\n",
        "          prev.next = current.next\n",
        "          current = current.next\n",
        "      else:\n",
        "          prev = current\n",
        "          current = current.next\n",
        "\n",
        "  if not num_list.head:\n",
        "      return \"no zeros found\"\n",
        "  else:\n",
        "      linked_list = []\n",
        "      while num_list.head:\n",
        "          linked_list.append(num_list.head.data)\n",
        "          num_list.head = num_list.head.next\n",
        "      print(linked_list)\n",
        "\n",
        "\n",
        "\n",
        "def main():\n",
        "  # Declare a list named student_number\n",
        "  # Instantiate each of the digits of the student number\n",
        "  student_number = [2,0,2,2,1,0,7,5,3,4]\n",
        "\n",
        "  # Create a new instance of the LinkedList class\n",
        "  num_list = LinkedList()\n",
        "\n",
        "  for num in student_number:\n",
        "      newNode = Node(num)\n",
        "      if not num_list.head:\n",
        "          num_list.head = newNode\n",
        "      else:\n",
        "          current = num_list.head\n",
        "          while current.next:\n",
        "              current = current.next\n",
        "          current.next = newNode\n",
        "\n",
        "# Use the removeZeroes() function\n",
        "  removeZeroes(num_list)\n",
        "\n",
        "if __name__ == \"__main__\":\n",
        "    main()"
      ]
    },
    {
      "cell_type": "markdown",
      "metadata": {
        "id": "SKAlpglNFehT"
      },
      "source": [
        "4. Insert a dash symbol between the 4th and 5th digit in **num_list**. `(5 points)`\n",
        "\n",
        "    **Expected Output:**\n",
        "\n",
        "    print(num_list)\n",
        "\n",
        "    [2, 0, 2, 2, \"-\", 1, 2, 3, 4, 5, 6]"
      ]
    },
    {
      "cell_type": "code",
      "execution_count": null,
      "metadata": {
        "id": "vF7fimZ-FehT",
        "colab": {
          "base_uri": "https://localhost:8080/"
        },
        "outputId": "60189d3b-f3e3-427f-db23-689803cc3348"
      },
      "outputs": [
        {
          "output_type": "stream",
          "name": "stdout",
          "text": [
            "[2, 0, 2, 2, '-', 1, 0, 7, 5, 3, 4]\n"
          ]
        }
      ],
      "source": [
        "def main():\n",
        "  # Create a new instance of the LinkedList class\n",
        "  linked_list = LinkedList()\n",
        "\n",
        "  # Create nodes and assign data to each node\n",
        "  linked_list.head = Node(2)\n",
        "  node_b = Node(0)\n",
        "  node_c = Node(2)\n",
        "  node_d = Node(2)\n",
        "  node_e = Node(1)\n",
        "  node_f = Node(0)\n",
        "  node_g = Node(7)\n",
        "  node_h = Node(5)\n",
        "  node_i = Node(3)\n",
        "  node_j = Node(4)\n",
        "\n",
        "  # Connect each node\n",
        "  linked_list.head.next = node_b\n",
        "  node_b.next = node_c\n",
        "  node_c.next = node_d\n",
        "  node_d.next = node_e\n",
        "  node_e.next = node_f\n",
        "  node_f.next = node_g\n",
        "  node_g.next = node_h\n",
        "  node_h.next = node_i\n",
        "  node_i.next = node_j\n",
        "\n",
        "  # Insert the dash symbol between the 4th and 5th digit in num_list\n",
        "  node_dash = Node(\"-\")\n",
        "  node_d.next = node_dash\n",
        "  node_dash.next = node_e\n",
        "\n",
        "  # Print the output\n",
        "  num_list = []\n",
        "  while linked_list.head:\n",
        "      num_list.append(linked_list.head.data)\n",
        "      linked_list.head = linked_list.head.next\n",
        "  print(num_list)\n",
        "\n",
        "if __name__ == \"__main__\":\n",
        "    main()"
      ]
    },
    {
      "cell_type": "markdown",
      "metadata": {
        "id": "KkC-LgdxFehT"
      },
      "source": [
        "## Stack"
      ]
    },
    {
      "cell_type": "code",
      "execution_count": null,
      "metadata": {
        "id": "UYTqB1u_FehU"
      },
      "outputs": [],
      "source": [
        "# Creating a stack\n",
        "def create_stack():\n",
        "    stack = []\n",
        "    return stack\n",
        "\n",
        "\n",
        "def print_stack(stack):\n",
        "\n",
        "    if (check_empty(stack)):\n",
        "        return \"stack is empty\"\n",
        "\n",
        "    # Create a copy of the stack and reverse the elements\n",
        "    tempStack = stack.copy()\n",
        "    tempStack.reverse()\n",
        "\n",
        "    # Print all elements using a loop\n",
        "    for i in tempStack:\n",
        "        print(i)\n",
        "\n",
        "    # Delete the copy to free up memory\n",
        "    del tempStack\n",
        "\n",
        "# Creating an empty stack\n",
        "\n",
        "\n",
        "def check_empty(stack):\n",
        "    return len(stack) == 0\n",
        "\n",
        "\n",
        "# Adding items into the stack\n",
        "def push(stack, item):\n",
        "    stack.append(item)\n",
        "    print(\"pushed item: \" + item)\n",
        "\n",
        "\n",
        "# Removing an element from the stack\n",
        "def pop(stack):\n",
        "    if (check_empty(stack)):\n",
        "        return \"stack is empty\"\n",
        "\n",
        "    return stack.pop()\n",
        "\n",
        "\n",
        "def peek(stack):\n",
        "\n",
        "    # Use negative indexing to display the last element of the list\n",
        "    print(stack[-1])"
      ]
    },
    {
      "cell_type": "markdown",
      "metadata": {
        "id": "wLAQchs8FehU"
      },
      "source": [
        "**Instructions** ❗️❗️\n",
        "\n",
        "Use the pre-defined stack class/functions to create a stack"
      ]
    },
    {
      "cell_type": "markdown",
      "metadata": {
        "id": "37cg9BoCFehU"
      },
      "source": [
        "1. Create two (2) stacks named **name_stack** and **num_stack** `(5 points)`\n",
        "\n",
        "- **name_stack** should contain all letters of your first name.\n",
        "- **num_stack** should contain all digits of your student number.\n",
        "\n",
        "    **Expected Output:**\n",
        "\n",
        "    print(name_stack)\n",
        "\n",
        "    ['E', 'L', 'I', 'Z', 'E', 'R']\n",
        "\n",
        "    print(num_stack)\n",
        "\n",
        "    [2,0,2,2,1,2,3,4,5,6]"
      ]
    },
    {
      "cell_type": "code",
      "execution_count": null,
      "metadata": {
        "id": "HlUIUQzQFehU",
        "colab": {
          "base_uri": "https://localhost:8080/"
        },
        "outputId": "72eee06d-da1e-421a-db6c-4686ca428ec5"
      },
      "outputs": [
        {
          "output_type": "stream",
          "name": "stdout",
          "text": [
            "pushed item: J\n",
            "pushed item: O\n",
            "pushed item: S\n",
            "pushed item: E\n",
            "pushed item: P\n",
            "pushed item: H\n",
            "pushed item: I\n",
            "pushed item: N\n",
            "pushed item: E\n"
          ]
        }
      ],
      "source": [
        "# Create a new stack named name_stack by calling the create_stack() function\n",
        "name_stack = create_stack()\n",
        "\n",
        "# Push or add each element (each of the letters of the first name) into the name_stack\n",
        "push(name_stack, 'J')\n",
        "push(name_stack, 'O')\n",
        "push(name_stack, 'S')\n",
        "push(name_stack, 'E')\n",
        "push(name_stack, 'P')\n",
        "push(name_stack, 'H')\n",
        "push(name_stack, 'I')\n",
        "push(name_stack, 'N')\n",
        "push(name_stack, 'E')"
      ]
    },
    {
      "cell_type": "code",
      "source": [
        "# Print the output (each of the letters of the first name) from the name_stack\n",
        "print(name_stack)"
      ],
      "metadata": {
        "colab": {
          "base_uri": "https://localhost:8080/"
        },
        "id": "Zu9bXRr3JQkq",
        "outputId": "57d2d8b8-979f-4348-901a-67ca24ba29f1"
      },
      "execution_count": null,
      "outputs": [
        {
          "output_type": "stream",
          "name": "stdout",
          "text": [
            "['J', 'O', 'S', 'E', 'P', 'H', 'I', 'N', 'E']\n"
          ]
        }
      ]
    },
    {
      "cell_type": "code",
      "source": [
        "# Create a new stack named num_stack by calling the create_stack() function\n",
        "num_stack = create_stack()\n",
        "\n",
        "# Push or add each element (each of the numbers of the student numbers) into the num_stack\n",
        "push(num_stack, (str(2)))\n",
        "push(num_stack, (str(0)))\n",
        "push(num_stack, (str(2)))\n",
        "push(num_stack, (str(2)))\n",
        "push(num_stack, (str(1)))\n",
        "push(num_stack, (str(0)))\n",
        "push(num_stack, (str(7)))\n",
        "push(num_stack, (str(5)))\n",
        "push(num_stack, (str(3)))\n",
        "push(num_stack, (str(4)))"
      ],
      "metadata": {
        "colab": {
          "base_uri": "https://localhost:8080/"
        },
        "id": "yT3XZL2hJTXr",
        "outputId": "56e1fa58-e3d0-42cb-befa-70a09504c007"
      },
      "execution_count": null,
      "outputs": [
        {
          "output_type": "stream",
          "name": "stdout",
          "text": [
            "pushed item: 2\n",
            "pushed item: 0\n",
            "pushed item: 2\n",
            "pushed item: 2\n",
            "pushed item: 1\n",
            "pushed item: 0\n",
            "pushed item: 7\n",
            "pushed item: 5\n",
            "pushed item: 3\n",
            "pushed item: 4\n"
          ]
        }
      ]
    },
    {
      "cell_type": "code",
      "source": [
        "# Print the output (each of the digits of the student number) from the num_stack\n",
        "print(num_stack)"
      ],
      "metadata": {
        "colab": {
          "base_uri": "https://localhost:8080/"
        },
        "id": "8mvmljg9JTMr",
        "outputId": "dba2eed8-a5c8-4c7f-cc2d-d7e82ccda2dd"
      },
      "execution_count": null,
      "outputs": [
        {
          "output_type": "stream",
          "name": "stdout",
          "text": [
            "['2', '0', '2', '2', '1', '0', '7', '5', '3', '4']\n"
          ]
        }
      ]
    },
    {
      "cell_type": "markdown",
      "metadata": {
        "id": "8cySe9LXFehU"
      },
      "source": [
        "2. Create a stack named **my_stack** that follows the following format: `(5 points)`\n",
        "\n",
        "- The first element should be the **5th digit in your student number**\n",
        "- The succeeding elements should be the letters of your **first name**\n",
        "- The last element should be the **last digit of your student number**\n",
        "\n",
        "    **Expected Output:**\n",
        "\n",
        "    my_stack = [1, E, L, I, Z, E, R, 6]"
      ]
    },
    {
      "cell_type": "code",
      "execution_count": null,
      "metadata": {
        "id": "bEnCoAhjFehU",
        "colab": {
          "base_uri": "https://localhost:8080/"
        },
        "outputId": "3323913f-8bd3-47cd-82f4-78c1a2e22bd4"
      },
      "outputs": [
        {
          "output_type": "stream",
          "name": "stdout",
          "text": [
            "pushed item: 1\n",
            "pushed item: J\n",
            "pushed item: O\n",
            "pushed item: S\n",
            "pushed item: E\n",
            "pushed item: P\n",
            "pushed item: H\n",
            "pushed item: I\n",
            "pushed item: N\n",
            "pushed item: E\n",
            "pushed item: 4\n"
          ]
        }
      ],
      "source": [
        "# Create a new stack named my_stack by calling the create_stack() function\n",
        "my_stack = create_stack()\n",
        "\n",
        "# Push or add each elements into the my_stack\n",
        "push(my_stack, (str(1)))\n",
        "push(my_stack, 'J')\n",
        "push(my_stack, 'O')\n",
        "push(my_stack, 'S')\n",
        "push(my_stack, 'E')\n",
        "push(my_stack, 'P')\n",
        "push(my_stack, 'H')\n",
        "push(my_stack, 'I')\n",
        "push(my_stack, 'N')\n",
        "push(my_stack, 'E')\n",
        "push(my_stack, (str(4)))"
      ]
    },
    {
      "cell_type": "code",
      "source": [
        "# Print the output from the my_stack\n",
        "print(my_stack)"
      ],
      "metadata": {
        "colab": {
          "base_uri": "https://localhost:8080/"
        },
        "id": "FO4AmQ69Pcm_",
        "outputId": "98a87572-c5ab-4a73-a266-6c61504438fa"
      },
      "execution_count": null,
      "outputs": [
        {
          "output_type": "stream",
          "name": "stdout",
          "text": [
            "['1', 'J', 'O', 'S', 'E', 'P', 'H', 'I', 'N', 'E', '4']\n"
          ]
        }
      ]
    },
    {
      "cell_type": "markdown",
      "metadata": {
        "id": "8a8_KP5nFehU"
      },
      "source": [
        "3. Write a `verifyStack()` function that will take in `my_stack` and check if its format has been followed `(10 points)`\n",
        "\n",
        "- Return **True** if the format has been followed\n",
        "- Return **False** if the format was not followed\n",
        "- Verify the format by checking the contents of **my_stack** with **name_stack** and **num_stack**\n",
        "\n",
        "    **Expected Output:**\n",
        "\n",
        "    my_stack = [1, E, L, I, Z, E, R, 6]\n",
        "\n",
        "    verifyStack(my_stack)\n",
        "\n",
        "    True\n",
        "\n",
        "    my_stack = [1, S, L, I, Z, E, R, 7]\n",
        "\n",
        "    verifyStack(my_stack)\n",
        "\n",
        "    False"
      ]
    },
    {
      "cell_type": "code",
      "execution_count": null,
      "metadata": {
        "id": "RdANSxD0FehU",
        "colab": {
          "base_uri": "https://localhost:8080/"
        },
        "outputId": "79efe01a-6ba6-4fe5-f17b-b2befa0459b3"
      },
      "outputs": [
        {
          "output_type": "stream",
          "name": "stdout",
          "text": [
            "True\n"
          ]
        }
      ],
      "source": [
        "def verifyStack(my_stack):\n",
        "    isFormatFollowed = True\n",
        "    if len(my_stack) != len(name_stack) + 2 or len(my_stack) != len(num_stack) + 1:\n",
        "        isFormatFollowed = False\n",
        "        print(isFormatFollowed)\n",
        "        return\n",
        "\n",
        "    # Check the first and last elements\n",
        "    if str(my_stack[0]) != str(num_stack[4]) or str(my_stack[-1]) != str(num_stack[-1]):\n",
        "        isFormatFollowed = False\n",
        "        print(isFormatFollowed)\n",
        "        return\n",
        "\n",
        "    # Check the rest of the elements\n",
        "    for i in range(1, len(my_stack) - 1):\n",
        "        if my_stack[i] != name_stack[i - 1]:\n",
        "            isFormatFollowed = False\n",
        "            print(isFormatFollowed)\n",
        "            return\n",
        "\n",
        "    print(isFormatFollowed)\n",
        "\n",
        "\n",
        "\n",
        "# Use the verifyStack() function\n",
        "verifyStack(my_stack)"
      ]
    },
    {
      "cell_type": "markdown",
      "metadata": {
        "id": "UC5C64B2FehU"
      },
      "source": [
        "## Queue"
      ]
    },
    {
      "cell_type": "code",
      "execution_count": null,
      "metadata": {
        "id": "NJJ0j0LHFehU"
      },
      "outputs": [],
      "source": [
        "class Queue:\n",
        "    def __init__(self):\n",
        "        self.queue = []\n",
        "\n",
        "    # Add an element\n",
        "    def enqueue(self, item):\n",
        "        self.queue.append(item)\n",
        "\n",
        "    # Remove an element\n",
        "    def dequeue(self):\n",
        "        if len(self.queue) < 1:\n",
        "            return None\n",
        "        return self.queue.pop(0)\n",
        "\n",
        "    # Display  the queue\n",
        "    def display(self):\n",
        "        print(self.queue)\n",
        "\n",
        "    def size(self):\n",
        "        return len(self.queue)\n",
        "\n",
        "    def peek(self):\n",
        "        return self.queue[0]"
      ]
    },
    {
      "cell_type": "markdown",
      "metadata": {
        "id": "80OekpbeFehV"
      },
      "source": [
        "**Instructions** ❗️❗️\n",
        "\n",
        "Use the pre-defined queue class/functions to create a Queue"
      ]
    },
    {
      "cell_type": "markdown",
      "metadata": {
        "id": "_Hf0OP5cFehV"
      },
      "source": [
        "1. Create a simple queue named **num_queue** `(5 points)`\n",
        "\n",
        "- **num_queue** should contain all digits of your student number.\n",
        "\n",
        "    **Expected Output:**\n",
        "\n",
        "    print(num_queue)\n",
        "\n",
        "    [2,0,2,2,1,2,3,4,5,6]"
      ]
    },
    {
      "cell_type": "code",
      "execution_count": null,
      "metadata": {
        "id": "_mgmE4ArFehV",
        "colab": {
          "base_uri": "https://localhost:8080/"
        },
        "outputId": "8cda79c4-5954-4c7a-a449-6b6ae0e97801"
      },
      "outputs": [
        {
          "output_type": "stream",
          "name": "stdout",
          "text": [
            "[2, 0, 2, 2, 1, 0, 7, 5, 3, 4]\n"
          ]
        }
      ],
      "source": [
        "# Create a new instance of the Queue class by calling the Queue() function\n",
        "num_queue = Queue()\n",
        "\n",
        "# Enqueue or add each element (each of the digits in the student number) into the num_queue by using the enqueue function\n",
        "num_queue.enqueue(int(2))\n",
        "num_queue.enqueue(int(0))\n",
        "num_queue.enqueue(int(2))\n",
        "num_queue.enqueue(int(2))\n",
        "num_queue.enqueue(int(1))\n",
        "num_queue.enqueue(int(0))\n",
        "num_queue.enqueue(int(7))\n",
        "num_queue.enqueue(int(5))\n",
        "num_queue.enqueue(int(3))\n",
        "num_queue.enqueue(int(4))\n",
        "\n",
        "# Print the output (all of the digits in the student number) from the num_queue\n",
        "num_queue.display()"
      ]
    },
    {
      "cell_type": "markdown",
      "metadata": {
        "id": "1pHG8t6DFehV"
      },
      "source": [
        "2. Write a `getMax()` or `getMin()` function for **num_queue** `(5 points)`\n",
        "\n",
        "- If your student number ends with an odd number, create a `getMax()` function that will return the largest number in **num_queue**\n",
        "- If your student number ends with an even number, create a `getMin()` function that will return the lowest number in **num_queue**\n",
        "\n",
        "    **Expected Output for getMax():**\n",
        "\n",
        "    getMax(num_queue)\n",
        "\n",
        "    6\n",
        "\n",
        "    **Expected Output for getMin():**\n",
        "\n",
        "    getMin(num_queue)\n",
        "\n",
        "    0"
      ]
    },
    {
      "cell_type": "code",
      "execution_count": null,
      "metadata": {
        "id": "itj2U610FehV",
        "colab": {
          "base_uri": "https://localhost:8080/"
        },
        "outputId": "b0feffe2-26f2-4f20-fd05-15e38f76b807"
      },
      "outputs": [
        {
          "output_type": "stream",
          "name": "stdout",
          "text": [
            "0\n"
          ]
        }
      ],
      "source": [
        "# Note: Student No.: 2022-107534\n",
        "\n",
        "def getMin(num_queue):\n",
        "    if len(num_queue.queue) == 0:\n",
        "        return None\n",
        "\n",
        "    min_val = num_queue.peek()\n",
        "    for num in num_queue.queue:\n",
        "        if num < min_val:\n",
        "            min_val = num\n",
        "\n",
        "    print(min_val)\n",
        "\n",
        "\n",
        "\n",
        "# Use the getMin() function\n",
        "getMin(num_queue)"
      ]
    },
    {
      "cell_type": "markdown",
      "metadata": {
        "id": "YkgmP6GwFehV"
      },
      "source": [
        "3. Write a `getOdd()` or `getEven()` function for  **num_queue** `(5 points)`\n",
        "\n",
        "- If your student number ends with an **odd number**, create a `getOdd()` function that will return all odd numbers in **num_queue**\n",
        "- If your student number ends with an **even number**, create a `getEven()` function that will return all even numbers in **num_queue**\n",
        "\n",
        "    **Expected Output for getOdd():**\n",
        "\n",
        "    getOdd(num_queue)\n",
        "\n",
        "    [1, 3, 5]\n",
        "\n",
        "    **Expected Output for getEven():**\n",
        "\n",
        "    getEven(num_queue)\n",
        "\n",
        "    [0, 2, 4, 6]"
      ]
    },
    {
      "cell_type": "code",
      "execution_count": null,
      "metadata": {
        "id": "2Bc7E1zNFehV",
        "colab": {
          "base_uri": "https://localhost:8080/"
        },
        "outputId": "48d419d0-8f18-420b-f473-0e185c0ec64f"
      },
      "outputs": [
        {
          "output_type": "stream",
          "name": "stdout",
          "text": [
            "[0, 2, 4]\n"
          ]
        }
      ],
      "source": [
        "# Note: Student No.: 2022-107534\n",
        "\n",
        "def getEven(num_queue):\n",
        "    if len(num_queue.queue) == 0:\n",
        "        return None\n",
        "\n",
        "    num_set = set(num_queue.queue)\n",
        "\n",
        "    even_list = sorted([num for num in num_set if num % 2 == 0])\n",
        "\n",
        "    print(even_list)\n",
        "\n",
        "\n",
        "\n",
        "# Create a new instance of the Queue class by calling the Queue() function\n",
        "num_queue = Queue()\n",
        "\n",
        "# Declare a list named num_list\n",
        "# Instantiate each of the digits of the student number\n",
        "num_list = [2, 0, 2, 2, 1, 0, 7, 5, 3, 4]\n",
        "\n",
        "# Enqueue the elements of num_list into the num_queue\n",
        "for num in num_list:\n",
        "    num_queue.enqueue(num)\n",
        "\n",
        "# Use the getEven() function\n",
        "getEven(num_queue)"
      ]
    },
    {
      "cell_type": "markdown",
      "metadata": {
        "id": "kuzWF5g4FehV"
      },
      "source": [
        "4. Write a `removeDup()` function that will remove all duplicates in **num_queue** `(5 points)`\n",
        "\n",
        "    **Expected Output:**\n",
        "\n",
        "    removeDup(num_queue)\n",
        "\n",
        "    [2,0,1,3,4,5,6]"
      ]
    },
    {
      "cell_type": "code",
      "execution_count": null,
      "metadata": {
        "id": "I8LeQP8MFehY",
        "colab": {
          "base_uri": "https://localhost:8080/"
        },
        "outputId": "b122cf98-14da-49c5-9fb4-ac60a7b323d0"
      },
      "outputs": [
        {
          "output_type": "stream",
          "name": "stdout",
          "text": [
            "[2, 0, 1, 7, 5, 3, 4]\n"
          ]
        }
      ],
      "source": [
        "def removeDup(queue):\n",
        "    unique_set = set()\n",
        "    new_queue = Queue()\n",
        "\n",
        "    while num_queue.size() > 0:\n",
        "        item = queue.dequeue()\n",
        "\n",
        "        if item not in unique_set:\n",
        "            unique_set.add(item)\n",
        "            new_queue.enqueue(item)\n",
        "\n",
        "    num_queue.queue = new_queue.queue\n",
        "    num_queue.display()\n",
        "\n",
        "\n",
        "\n",
        "# Create a new instance of the Queue class by calling the Queue() function\n",
        "num_queue = Queue()\n",
        "\n",
        "# Enqueue or add each element (each of the digits in the student number) into the num_queue by using the enqueue function\n",
        "num_queue.enqueue(int(2))\n",
        "num_queue.enqueue(int(0))\n",
        "num_queue.enqueue(int(2))\n",
        "num_queue.enqueue(int(2))\n",
        "num_queue.enqueue(int(1))\n",
        "num_queue.enqueue(int(0))\n",
        "num_queue.enqueue(int(7))\n",
        "num_queue.enqueue(int(5))\n",
        "num_queue.enqueue(int(3))\n",
        "num_queue.enqueue(int(4))\n",
        "\n",
        "# Use the removeDup() function\n",
        "removeDup(num_queue)"
      ]
    },
    {
      "cell_type": "markdown",
      "metadata": {
        "id": "LVfZTh8YFehZ"
      },
      "source": [
        "## Sort"
      ]
    },
    {
      "cell_type": "markdown",
      "metadata": {
        "id": "bm9lonfzFehZ"
      },
      "source": [
        "**Instructions** ❗️❗️\n",
        "\n",
        "Use the any sorting algoritms"
      ]
    },
    {
      "cell_type": "markdown",
      "metadata": {
        "id": "EJTlxhEdFehZ"
      },
      "source": [
        "1. Using any sorting algorithm, sort the **last 6 digits** of your student number in ascending order `(5 points)`\n",
        "\n",
        "    **Example:**\n",
        "\n",
        "    student_number = [2,0,2,2,6,2,5,1,3,4]\n",
        "\n",
        "    **Expected Output:**\n",
        "\n",
        "    print(student_number)\n",
        "\n",
        "    [2,0,2,2,1,2,3,4,5,6]\n"
      ]
    },
    {
      "cell_type": "code",
      "execution_count": null,
      "metadata": {
        "id": "MkZKfveOFehZ",
        "colab": {
          "base_uri": "https://localhost:8080/"
        },
        "outputId": "40771cc2-2e5d-47b4-a40b-69e288a5fddb"
      },
      "outputs": [
        {
          "output_type": "stream",
          "name": "stdout",
          "text": [
            "[2, 0, 2, 2, 0, 1, 3, 4, 5, 7]\n"
          ]
        }
      ],
      "source": [
        "def insertion_sort(student_number):\n",
        "\tfor i in range(1, len(student_number)):\n",
        "\t\tkey = student_number[i]\n",
        "\t\tj = i-1\n",
        "\t\twhile j >= 0 and key < student_number[j] :\n",
        "\t\t\t\tstudent_number[j + 1] = student_number[j]\n",
        "\t\t\t\tj -= 1\n",
        "\t\tstudent_number[j + 1] = key\n",
        "\treturn student_number\n",
        "\n",
        "\n",
        "\n",
        "def main():\n",
        "  # Declare a list named student_number\n",
        "  # Instantiate each of the digits of the student number\n",
        "  student_number = [2,0,2,2,1,0,7,5,3,4]\n",
        "\n",
        "  lastSixDigits = insertion_sort(student_number[-6:])\n",
        "  student_number[-6:] = lastSixDigits\n",
        "\n",
        "  print(student_number)\n",
        "\n",
        "if __name__ == \"__main__\":\n",
        "    main()"
      ]
    },
    {
      "cell_type": "markdown",
      "metadata": {
        "id": "sC2JZRZMFehZ"
      },
      "source": [
        "2. Using your student_number, separately sort the even numbers in **increasing order** and the odd numbers in **decreasing order** `(15 points)`\n",
        "\n",
        "    **Example:**\n",
        "\n",
        "    student_number = [2,0,2,2,1,2,3,4,5,6]\n",
        "\n",
        "    **Expected Output:**\n",
        "\n",
        "    print(student_number)\n",
        "\n",
        "    [0,2,2,2,2,4,6,5,3,1]"
      ]
    },
    {
      "cell_type": "code",
      "execution_count": null,
      "metadata": {
        "id": "hWOh_ohcFehZ",
        "colab": {
          "base_uri": "https://localhost:8080/"
        },
        "outputId": "78b3b9ca-a765-43ff-e8e8-143da61c7510"
      },
      "outputs": [
        {
          "output_type": "stream",
          "name": "stdout",
          "text": [
            "[0, 0, 2, 2, 2, 4, 7, 5, 3, 1]\n"
          ]
        }
      ],
      "source": [
        "def insertion_sort(student_number):\n",
        "\tfor i in range(1, len(student_number)):\n",
        "\t\tkey = student_number[i]\n",
        "\t\tj = i-1\n",
        "\t\twhile j >= 0 and key < student_number[j] :\n",
        "\t\t\t\tstudent_number[j + 1] = student_number[j]\n",
        "\t\t\t\tj -= 1\n",
        "\t\tstudent_number[j + 1] = key\n",
        "\treturn student_number\n",
        "\n",
        "\n",
        "\n",
        "def main():\n",
        "  # Declare a list named num_list\n",
        "  # Instantiate each of the digits of the student number\n",
        "  student_number = [2,0,2,2,1,0,7,5,3,4]\n",
        "\n",
        "  # Declare a list to store the even numbers\n",
        "  even_numbers = []\n",
        "\n",
        "  # Declare a list to store the odd numbers\n",
        "  odd_numbers = []\n",
        "\n",
        "\n",
        "  for number in student_number:\n",
        "    if number % 2 == 0:\n",
        "      even_numbers.append(number)\n",
        "    else:\n",
        "      odd_numbers.append(number)\n",
        "\n",
        "  even_numbers = insertion_sort(even_numbers)\n",
        "  odd_numbers = insertion_sort(odd_numbers)[::-1]\n",
        "\n",
        "  student_number = even_numbers + odd_numbers\n",
        "  print(student_number)\n",
        "\n",
        "if __name__ == \"__main__\":\n",
        "    main()"
      ]
    }
  ],
  "metadata": {
    "kernelspec": {
      "display_name": "Python 3",
      "language": "python",
      "name": "python3"
    },
    "language_info": {
      "codemirror_mode": {
        "name": "ipython",
        "version": 3
      },
      "file_extension": ".py",
      "mimetype": "text/x-python",
      "name": "python",
      "nbconvert_exporter": "python",
      "pygments_lexer": "ipython3",
      "version": "3.9.13"
    },
    "orig_nbformat": 4,
    "colab": {
      "provenance": []
    }
  },
  "nbformat": 4,
  "nbformat_minor": 0
}